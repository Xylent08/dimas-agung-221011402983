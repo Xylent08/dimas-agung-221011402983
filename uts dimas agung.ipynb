{
 "cells": [
  {
   "cell_type": "code",
   "execution_count": 2,
   "id": "00a2adec-c044-4ef7-8a45-8c5518d7f6a5",
   "metadata": {},
   "outputs": [
    {
     "data": {
      "text/plain": [
       "[{'name': 'Company 3'}, {'name': 'Company 2'}, {'name': 'Company 1'}]"
      ]
     },
     "execution_count": 2,
     "metadata": {},
     "output_type": "execute_result"
    }
   ],
   "source": [
    "company_detail_list = [\n",
    "    {\n",
    "        'name': 'Company 1',\n",
    "        'domain': 'Retail',\n",
    "        'country': 'United States'\n",
    "    },\n",
    "    {\n",
    "        'name': 'Company 2',\n",
    "        'domain': 'Technology',\n",
    "        'country': 'United Kingdom'\n",
    "    },\n",
    "    {\n",
    "        'name': 'Company 3',\n",
    "        'domain': 'Healthcare',\n",
    "        'country': 'United States'\n",
    "    }\n",
    "]\n",
    "\n",
    "# Task 1: Fungsi untuk mengurutkan perusahaan berdasarkan nama terbalik\n",
    "def sorted_companies(company_detail_list):\n",
    "    sorted_list = sorted(company_detail_list, key=lambda x: x['name'], reverse=True)\n",
    "    return [{'name': company['name']} for company in sorted_list]\n",
    "\n",
    "# Menjalankan fungsi\n",
    "sorted_companies(company_detail_list)"
   ]
  },
  {
   "cell_type": "code",
   "execution_count": 3,
   "id": "ca511afc-efc3-482a-a61b-2007c2e8fd7b",
   "metadata": {},
   "outputs": [
    {
     "data": {
      "text/plain": [
       "[{'name': 'Company 3'}, {'name': 'Company 2'}, {'name': 'Company 1'}]"
      ]
     },
     "execution_count": 3,
     "metadata": {},
     "output_type": "execute_result"
    }
   ],
   "source": [
    "# Task 1\n",
    "def sorted_companies(company_detail_list):\n",
    "    sorted_list = sorted(company_detail_list, key=lambda x: x['name'], reverse=True)\n",
    "    return [{'name': company['name']} for company in sorted_list]\n",
    "\n",
    "sorted_companies(company_detail_list)"
   ]
  },
  {
   "cell_type": "code",
   "execution_count": 4,
   "id": "ba2a348b-c1f9-4b8d-abec-430f2b081a11",
   "metadata": {},
   "outputs": [
    {
     "data": {
      "text/plain": [
       "{'Retail': ['John Doe', 'Ying Han Tan', 'Robert White'],\n",
       " 'Technology': ['Tom Smith', 'Rubby Lee'],\n",
       " 'Healthcare': ['Andrew Sebastian', 'Kenneth Ng']}"
      ]
     },
     "execution_count": 4,
     "metadata": {},
     "output_type": "execute_result"
    }
   ],
   "source": [
    "# Data perusahaan\n",
    "company_detail_list = [\n",
    "    {\n",
    "        'name': 'Company 1',\n",
    "        'domain': 'Retail',\n",
    "        'country': 'United States'\n",
    "    },\n",
    "    {\n",
    "        'name': 'Company 2',\n",
    "        'domain': 'Technology',\n",
    "        'country': 'United Kingdom'\n",
    "    },\n",
    "    {\n",
    "        'name': 'Company 3',\n",
    "        'domain': 'Healthcare',\n",
    "        'country': 'United States'\n",
    "    }\n",
    "]\n",
    "\n",
    "# Data karyawan\n",
    "employee_detail_list = [\n",
    "    {\n",
    "        'name': 'EMP-0001',\n",
    "        'first_name': 'John',\n",
    "        'last_name': 'Doe',\n",
    "        'full_name': 'John Doe',\n",
    "        'company': 'Company 1',\n",
    "        'nationality': 'Australia'\n",
    "    },\n",
    "    {\n",
    "        'name': 'EMP-0002',\n",
    "        'first_name': 'Tom',\n",
    "        'last_name': 'Smith',\n",
    "        'full_name': 'Tom Smith',\n",
    "        'company': 'Company 2',\n",
    "        'nationality': 'United States'\n",
    "    },\n",
    "    {\n",
    "        'name': 'EMP-0003',\n",
    "        'first_name': 'Andrew',\n",
    "        'last_name': 'Sebastian',\n",
    "        'full_name': 'Andrew Sebastian',\n",
    "        'company': 'Company 3',\n",
    "        'nationality': 'United States'\n",
    "    },\n",
    "    {\n",
    "        'name': 'EMP-0005',\n",
    "        'first_name': 'Ying Han',\n",
    "        'last_name': 'Tan',\n",
    "        'full_name': 'Ying Han Tan',\n",
    "        'company': 'Company 1',\n",
    "        'nationality': 'Australia'\n",
    "    },\n",
    "    {\n",
    "        'name': 'EMP-0015',\n",
    "        'first_name': 'Kenneth',\n",
    "        'last_name': 'Ng',\n",
    "        'full_name': 'Kenneth Ng',\n",
    "        'company': 'Company 3',\n",
    "        'nationality': 'United States'\n",
    "    },\n",
    "    {\n",
    "        'name': 'EMP-0018',\n",
    "        'first_name': 'Rubby',\n",
    "        'last_name': 'Lee',\n",
    "        'full_name': 'Rubby Lee',\n",
    "        'company': 'Company 2',\n",
    "        'nationality': 'Hong Kong'\n",
    "    },\n",
    "    {\n",
    "        'name': 'EMP-0017',\n",
    "        'first_name': 'Robert',\n",
    "        'last_name': 'White',\n",
    "        'full_name': 'Robert White',\n",
    "        'company': 'Company 1',\n",
    "        'nationality': 'United Kingdom'\n",
    "    }\n",
    "]\n",
    "# Fungsi untuk mengelompokkan karyawan berdasarkan domain perusahaan\n",
    "def employees_by_domain(company_detail_list, employee_detail_list):\n",
    "    # Membuat dictionary untuk domain perusahaan\n",
    "    domain_by_company = {company['name']: company['domain'] for company in company_detail_list}\n",
    "    \n",
    "    # Mengelompokkan karyawan berdasarkan domain\n",
    "    grouped_employees = {}\n",
    "    for employee in employee_detail_list:\n",
    "        domain = domain_by_company.get(employee['company'])\n",
    "        if domain:\n",
    "            if domain not in grouped_employees:\n",
    "                grouped_employees[domain] = []\n",
    "            grouped_employees[domain].append(employee['full_name'])\n",
    "    \n",
    "    return grouped_employees\n",
    "\n",
    "# Menjalankan fungsi\n",
    "employees_by_domain(company_detail_list, employee_detail_list)"
   ]
  },
  {
   "cell_type": "code",
   "execution_count": 5,
   "id": "21153133-029f-4290-815f-cd0ea07ab7fc",
   "metadata": {},
   "outputs": [
    {
     "data": {
      "text/plain": [
       "{'Retail': ['John Doe', 'Ying Han Tan', 'Robert White'],\n",
       " 'Technology': ['Tom Smith', 'Rubby Lee'],\n",
       " 'Healthcare': ['Andrew Sebastian', 'Kenneth Ng']}"
      ]
     },
     "execution_count": 5,
     "metadata": {},
     "output_type": "execute_result"
    }
   ],
   "source": [
    "# Task 3\n",
    "def employees_by_domain(company_detail_list, employee_detail_list):\n",
    "    domain_dict = {company['name']: company['domain'] for company in company_detail_list}\n",
    "    grouped_employees = {}\n",
    "    \n",
    "    for employee in employee_detail_list:\n",
    "        domain = domain_dict[employee['company']]\n",
    "        if domain not in grouped_employees:\n",
    "            grouped_employees[domain] = []\n",
    "        grouped_employees[domain].append(employee['full_name'])\n",
    "    \n",
    "    return grouped_employees\n",
    "\n",
    "employees_by_domain(company_detail_list, employee_detail_list)"
   ]
  },
  {
   "cell_type": "code",
   "execution_count": 6,
   "id": "5913ca1b-cc03-406b-8b9f-0f34a8e022fb",
   "metadata": {},
   "outputs": [
    {
     "data": {
      "text/plain": [
       "[{'full_name': 'John Doe', 'company': 'Company 1', 'country': 'United States'},\n",
       " {'full_name': 'Tom Smith',\n",
       "  'company': 'Company 2',\n",
       "  'country': 'United Kingdom'},\n",
       " {'full_name': 'Andrew Sebastian',\n",
       "  'company': 'Company 3',\n",
       "  'country': 'United States'},\n",
       " {'full_name': 'Ying Han Tan',\n",
       "  'company': 'Company 1',\n",
       "  'country': 'United States'},\n",
       " {'full_name': 'Kenneth Ng',\n",
       "  'company': 'Company 3',\n",
       "  'country': 'United States'},\n",
       " {'full_name': 'Rubby Lee',\n",
       "  'company': 'Company 2',\n",
       "  'country': 'United Kingdom'},\n",
       " {'full_name': 'Robert White',\n",
       "  'company': 'Company 1',\n",
       "  'country': 'United States'}]"
      ]
     },
     "execution_count": 6,
     "metadata": {},
     "output_type": "execute_result"
    }
   ],
   "source": [
    "# Task 4\n",
    "def employees_with_company_country(company_detail_list, employee_detail_list):\n",
    "    company_country_dict = {company['name']: company['country'] for company in company_detail_list}\n",
    "    \n",
    "    result = []\n",
    "    for employee in employee_detail_list:\n",
    "        result.append({\n",
    "            'full_name': employee['full_name'],\n",
    "            'company': employee['company'],\n",
    "            'country': company_country_dict[employee['company']]\n",
    "        })\n",
    "    return result\n",
    "\n",
    "employees_with_company_country(company_detail_list, employee_detail_list)"
   ]
  },
  {
   "cell_type": "code",
   "execution_count": 7,
   "id": "f70a0afc-6bea-4555-a39c-6a521880b4b2",
   "metadata": {},
   "outputs": [
    {
     "data": {
      "text/plain": [
       "[{'company': 'Company 1',\n",
       "  'employee_nationality': {'Australia': 2, 'United Kingdom': 1}},\n",
       " {'company': 'Company 2',\n",
       "  'employee_nationality': {'United States': 1, 'Hong Kong': 1}},\n",
       " {'company': 'Company 3', 'employee_nationality': {'United States': 2}}]"
      ]
     },
     "execution_count": 7,
     "metadata": {},
     "output_type": "execute_result"
    }
   ],
   "source": [
    "# Task 5\n",
    "from collections import defaultdict\n",
    "\n",
    "def nationality_count_per_company(company_detail_list, employee_detail_list):\n",
    "    company_nationality_count = defaultdict(lambda: defaultdict(int))\n",
    "    \n",
    "    for employee in employee_detail_list:\n",
    "        company_nationality_count[employee['company']][employee['nationality']] += 1\n",
    "    \n",
    "    result = []\n",
    "    for company in company_detail_list:\n",
    "        result.append({\n",
    "            'company': company['name'],\n",
    "            'employee_nationality': dict(company_nationality_count[company['name']])\n",
    "        })\n",
    "    \n",
    "    return result\n",
    "\n",
    "nationality_count_per_company(company_detail_list, employee_detail_list)"
   ]
  }
 ],
 "metadata": {
  "kernelspec": {
   "display_name": "Python 3 (ipykernel)",
   "language": "python",
   "name": "python3"
  },
  "language_info": {
   "codemirror_mode": {
    "name": "ipython",
    "version": 3
   },
   "file_extension": ".py",
   "mimetype": "text/x-python",
   "name": "python",
   "nbconvert_exporter": "python",
   "pygments_lexer": "ipython3",
   "version": "3.12.7"
  }
 },
 "nbformat": 4,
 "nbformat_minor": 5
}
